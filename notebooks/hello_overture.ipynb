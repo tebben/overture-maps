{
 "cells": [
  {
   "cell_type": "markdown",
   "metadata": {},
   "source": [
    "# Hello Overture\n",
    "\n",
    "Some tests to expore the overture-maps data and see what we can do with it.\n",
    "\n",
    "## Prerequisites\n",
    "\n",
    "Follow README.md to download data and setup an Python environment using conda."
   ]
  },
  {
   "cell_type": "markdown",
   "metadata": {},
   "source": [
    "## Setup"
   ]
  },
  {
   "cell_type": "markdown",
   "metadata": {},
   "source": [
    "import and load dependencies"
   ]
  },
  {
   "cell_type": "code",
   "execution_count": 1,
   "metadata": {},
   "outputs": [
    {
     "data": {
      "text/html": [
       "<div>\n",
       "<style scoped>\n",
       "    .dataframe tbody tr th:only-of-type {\n",
       "        vertical-align: middle;\n",
       "    }\n",
       "\n",
       "    .dataframe tbody tr th {\n",
       "        vertical-align: top;\n",
       "    }\n",
       "\n",
       "    .dataframe thead th {\n",
       "        text-align: right;\n",
       "    }\n",
       "</style>\n",
       "<table border=\"1\" class=\"dataframe\">\n",
       "  <thead>\n",
       "    <tr style=\"text-align: right;\">\n",
       "      <th></th>\n",
       "      <th>Success</th>\n",
       "    </tr>\n",
       "  </thead>\n",
       "  <tbody>\n",
       "  </tbody>\n",
       "</table>\n",
       "</div>"
      ],
      "text/plain": [
       "Empty DataFrame\n",
       "Columns: [Success]\n",
       "Index: []"
      ]
     },
     "execution_count": 1,
     "metadata": {},
     "output_type": "execute_result"
    }
   ],
   "source": [
    "import duckdb\n",
    "import json\n",
    "import pandas as pd\n",
    "import geopandas as gpd\n",
    "\n",
    "from keplergl import KeplerGl\n",
    "\n",
    "# Import jupysql Jupyter extension to create SQL cells\n",
    "%load_ext sql\n",
    "\n",
    "# Set configurations on jupysql to directly output data to Pandas and to simplify the output that is printed to the notebook.\n",
    "%config SqlMagic.autopandas = True\n",
    "%config SqlMagic.feedback = False\n",
    "%config SqlMagic.displaycon = False\n",
    "\n",
    "# Set configurations on jupysql to directly output data to Pandas and to simplify the output that is printed to the notebook.\n",
    "%sql duckdb:///:default:\n",
    "    \n",
    "# Load spatial extension for DuckDB\n",
    "%sql INSTALL spatial\n",
    "%sql LOAD spatial\n"
   ]
  },
  {
   "cell_type": "markdown",
   "metadata": {},
   "source": [
    "## Functions"
   ]
  },
  {
   "cell_type": "markdown",
   "metadata": {},
   "source": [
    "### Set local and english names"
   ]
  },
  {
   "cell_type": "code",
   "execution_count": 2,
   "metadata": {},
   "outputs": [],
   "source": [
    "def append_local_and_en_names(row):\n",
    "    names = json.loads(row.names)['common'] if pd.notna(row['names']) else []\n",
    "\n",
    "    for name in names:\n",
    "        if name['language'] == 'local':\n",
    "            row['localname'] = name['value']\n",
    "\n",
    "        if name['language'] in ['en', 'en-Latn']:\n",
    "            row['enname'] = name['value']\n",
    "\n",
    "    return row"
   ]
  },
  {
   "cell_type": "markdown",
   "metadata": {},
   "source": [
    "## Get some data and show it on a map\n",
    "\n",
    "### Select country (NL)"
   ]
  },
  {
   "cell_type": "code",
   "execution_count": 3,
   "metadata": {},
   "outputs": [],
   "source": [
    "%%sql selected_country << \n",
    "    SELECT\n",
    "        isoCountryCodeAlpha2,\n",
    "        JSON(names) as names,\n",
    "        JSON(sources) as sources,\n",
    "        geometry as geom\n",
    "    FROM read_parquet('../data/overture_maps/theme=admins/type=*/*', hive_partitioning=1)\n",
    "    WHERE adminLevel = 2\n",
    "    AND isoCountryCodeAlpha2 = 'NL'\n",
    "    "
   ]
  },
  {
   "cell_type": "markdown",
   "metadata": {},
   "source": [
    "Set local and english names"
   ]
  },
  {
   "cell_type": "code",
   "execution_count": 4,
   "metadata": {},
   "outputs": [],
   "source": [
    "selected_country = selected_country.apply(append_local_and_en_names, axis=1)"
   ]
  },
  {
   "cell_type": "markdown",
   "metadata": {},
   "source": [
    "### Select provinces within country"
   ]
  },
  {
   "cell_type": "code",
   "execution_count": 5,
   "metadata": {},
   "outputs": [],
   "source": [
    "%%sql selected_provinces << \n",
    "    SELECT\n",
    "        localityType,\n",
    "        JSON(a.names) as names,\n",
    "        JSON(a.sources) as sources,\n",
    "        a.geometry as geom,\n",
    "        a.isosubcountrycode\n",
    "    FROM read_parquet('../data/overture_maps/theme=admins/type=*/*', hive_partitioning=1) as a, selected_country as b\n",
    "    WHERE adminLevel = 4\n",
    "    AND localityType = 'province'\n",
    "    AND ST_Within(ST_GeomFromWKB(a.geometry), ST_GeomFromWKB(b.geom))\n",
    "    "
   ]
  },
  {
   "cell_type": "markdown",
   "metadata": {},
   "source": [
    "Get the names in new columns and remove unused data"
   ]
  },
  {
   "cell_type": "code",
   "execution_count": 6,
   "metadata": {},
   "outputs": [],
   "source": [
    "selected_provinces = selected_provinces.apply(append_local_and_en_names, axis=1)\n",
    "selected_provinces = selected_provinces.drop(columns=[\"names\", \"sources\"])"
   ]
  },
  {
   "cell_type": "markdown",
   "metadata": {},
   "source": [
    "### Get buildings within bounds"
   ]
  },
  {
   "cell_type": "code",
   "execution_count": 7,
   "metadata": {},
   "outputs": [],
   "source": [
    "den_bosch_bbox = [\"POLYGON ((5.300171258675078 51.69073045148227, 5.300611111690557 51.68445866410491, 5.315566114235423 51.68486772020245, 5.313366849155244 51.690866785036064, 5.300171258675078 51.69073045148227))\"]\n",
    "data_bbox = pd.DataFrame(den_bosch_bbox, columns=['bbox'])\n",
    "#https://dev.to/savo/spatial-data-analysis-with-duckdb-40j9"
   ]
  },
  {
   "cell_type": "code",
   "execution_count": 8,
   "metadata": {},
   "outputs": [],
   "source": [
    "%%sql selected_buildings << \n",
    "    SELECT\n",
    "        height,\n",
    "        class,\n",
    "        numFloors,\n",
    "        a.geometry as geom\n",
    "    FROM read_parquet('../data/overture_maps/theme=buildings/type=building/*', hive_partitioning=1) as a, data_bbox as b\n",
    "    WHERE ST_Intersects(ST_GeomFromWKB(a.geometry), ST_GeomFromText(b.bbox))"
   ]
  },
  {
   "cell_type": "code",
   "execution_count": 9,
   "metadata": {},
   "outputs": [],
   "source": [
    "selected_buildings['height'] = selected_buildings['height'].fillna(0)\n",
    "selected_buildings['numfloors'] = selected_buildings['numfloors'].fillna(1)\n",
    "selected_buildings['class'] = selected_buildings['class'].fillna('')"
   ]
  },
  {
   "cell_type": "markdown",
   "metadata": {},
   "source": [
    "### Get roads within bounds"
   ]
  },
  {
   "cell_type": "markdown",
   "metadata": {},
   "source": [
    "only subtype road is currently available in the data"
   ]
  },
  {
   "cell_type": "code",
   "execution_count": 10,
   "metadata": {},
   "outputs": [],
   "source": [
    "%%sql selected_roads << \n",
    "    SELECT\n",
    "        replace(json_extract(road::json,'$.class'),'\"','')::varchar as class,\n",
    "        replace(json_extract(road::json,'$.surface'),'\"','')::varchar as surface,\n",
    "        replace(json_extract(road::json,'$.roadNames.common[0].value'),'\"','')::varchar as roadName,\n",
    "        replace(json_extract(road::json,'$.restrictions.speedLimits[0].maxSpeed'),'\"','')::varchar as speedLimit,\n",
    "        geometry as geom\n",
    "    FROM read_parquet('../data/overture_maps/theme=transportation/type=segment/*', hive_partitioning=1) as a, data_bbox as b\n",
    "    WHERE subType = 'road'\n",
    "    AND ST_Intersects(ST_GeomFromWKB(a.geometry), ST_GeomFromText(b.bbox))"
   ]
  },
  {
   "cell_type": "code",
   "execution_count": 11,
   "metadata": {},
   "outputs": [],
   "source": [
    "selected_roads['surface'] = selected_roads['surface'].fillna('unknown')\n",
    "selected_roads['roadName'] = selected_roads['roadName'].fillna('unknown')\n",
    "selected_roads['speedLimit'] = selected_roads['speedLimit'].fillna(-1)"
   ]
  },
  {
   "cell_type": "markdown",
   "metadata": {},
   "source": [
    "### Get places within bounds"
   ]
  },
  {
   "cell_type": "code",
   "execution_count": 12,
   "metadata": {},
   "outputs": [],
   "source": [
    "%%sql selected_places << \n",
    "    SELECT\n",
    "        replace(json_extract(addresses::json,'$[0].locality'),'\"','')::varchar as locality,\n",
    "        replace(json_extract(addresses::json,'$[0].region'),'\"','')::varchar as region,\n",
    "        replace(json_extract(addresses::json,'$[0].postcode'),'\"','')::varchar as postcode,\n",
    "        replace(json_extract(addresses::json,'$[0].freeform'),'\"','')::varchar as freeform,\n",
    "        replace(json_extract(categories::json,'$.main'),'\"','')::varchar as categories_main,\n",
    "        replace(json_extract(names::json,'$.common[0].value'),'\"','')::varchar as names,\n",
    "        confidence,\n",
    "        geometry as geom\n",
    "    FROM read_parquet('../data/overture_maps/theme=places/type=place/*', hive_partitioning=1) as a, data_bbox as b\n",
    "    WHERE ST_Intersects(ST_GeomFromWKB(a.geometry), ST_GeomFromText(b.bbox))\n",
    "    AND confidence > 0.75"
   ]
  },
  {
   "cell_type": "code",
   "execution_count": 13,
   "metadata": {},
   "outputs": [],
   "source": [
    "selected_places = selected_places.fillna('')"
   ]
  },
  {
   "cell_type": "markdown",
   "metadata": {},
   "source": [
    "## Show data on map"
   ]
  },
  {
   "cell_type": "code",
   "execution_count": 14,
   "metadata": {},
   "outputs": [
    {
     "data": {
      "application/vnd.jupyter.widget-view+json": {
       "model_id": "2e649c83c21f4fc38aaca957c7c97330",
       "version_major": 2,
       "version_minor": 0
      },
      "text/plain": [
       "KeplerGl(config={'version': 'v1', 'config': {'visState': {'filters': [], 'layers': [{'id': 'our7thl', 'type': …"
      ]
     },
     "metadata": {},
     "output_type": "display_data"
    }
   ],
   "source": [
    "country = gpd.GeoDataFrame(selected_country, geometry=gpd.GeoSeries.from_wkb(selected_country.geom.apply(bytes)))\n",
    "provinces = gpd.GeoDataFrame(selected_provinces, geometry=gpd.GeoSeries.from_wkb(selected_provinces.geom.apply(bytes)))\n",
    "buildings = gpd.GeoDataFrame(selected_buildings, geometry=gpd.GeoSeries.from_wkb(selected_buildings.geom.apply(bytes)))\n",
    "roads = gpd.GeoDataFrame(selected_roads, geometry=gpd.GeoSeries.from_wkb(selected_roads.geom.apply(bytes)))\n",
    "places = gpd.GeoDataFrame(selected_places, geometry=gpd.GeoSeries.from_wkb(selected_places.geom.apply(bytes)))\n",
    "\n",
    "places['Longitude'] = places.geometry.apply(lambda geom: geom.x)\n",
    "places['Latitude'] = places.geometry.apply(lambda geom: geom.y)\n",
    "\n",
    "with open(\"./map_configs/hello_overture_map_1.json\", \"r\") as f:\n",
    "    map_config = f.read()\n",
    "    \n",
    "map_1 = KeplerGl(config=json.loads(map_config), height=800, show_docs=False)\n",
    "map_1.add_data(data=places, name='places')\n",
    "map_1.add_data(data=roads, name='roads')\n",
    "map_1.add_data(data=buildings, name='buildings')\n",
    "map_1.add_data(data=provinces, name='provinces')\n",
    "map_1.add_data(data=country, name='country')\n",
    "map_1\n"
   ]
  },
  {
   "cell_type": "markdown",
   "metadata": {},
   "source": []
  },
  {
   "cell_type": "markdown",
   "metadata": {},
   "source": [
    "Run the next cell to save the map config if you want to save the style you changed on the map"
   ]
  },
  {
   "cell_type": "code",
   "execution_count": 15,
   "metadata": {},
   "outputs": [],
   "source": [
    "with open(\"./map_configs/hello_overture_map_1.json\", \"w\") as f:\n",
    "    f.write(json.dumps(map_1.config))"
   ]
  },
  {
   "cell_type": "code",
   "execution_count": null,
   "metadata": {},
   "outputs": [],
   "source": []
  }
 ],
 "metadata": {
  "kernelspec": {
   "display_name": "Python 3",
   "language": "python",
   "name": "python3"
  },
  "language_info": {
   "codemirror_mode": {
    "name": "ipython",
    "version": 3
   },
   "file_extension": ".py",
   "mimetype": "text/x-python",
   "name": "python",
   "nbconvert_exporter": "python",
   "pygments_lexer": "ipython3",
   "version": "3.10.12"
  },
  "orig_nbformat": 4
 },
 "nbformat": 4,
 "nbformat_minor": 2
}
